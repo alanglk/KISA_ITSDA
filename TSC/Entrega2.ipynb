{
  "nbformat": 4,
  "nbformat_minor": 0,
  "metadata": {
    "colab": {
      "provenance": []
    },
    "kernelspec": {
      "name": "python3",
      "display_name": "Python 3"
    },
    "language_info": {
      "name": "python"
    }
  },
  "cells": [
    {
      "cell_type": "markdown",
      "source": [
        "# Cargar los datos"
      ],
      "metadata": {
        "id": "h9B6H5WNU4q3"
      }
    },
    {
      "cell_type": "code",
      "source": [
        "from google.colab import drive\n",
        "drive.mount('/content/drive')"
      ],
      "metadata": {
        "colab": {
          "base_uri": "https://localhost:8080/"
        },
        "id": "1GY-wVbmU3J3",
        "outputId": "4b945b91-f488-4de0-fbf4-a11d49676400"
      },
      "execution_count": 1,
      "outputs": [
        {
          "output_type": "stream",
          "name": "stdout",
          "text": [
            "Mounted at /content/drive\n"
          ]
        }
      ]
    },
    {
      "cell_type": "code",
      "source": [
        "pip install tslearn scikit-learn"
      ],
      "metadata": {
        "colab": {
          "base_uri": "https://localhost:8080/"
        },
        "id": "BqRYjqINTE_3",
        "outputId": "8e52d157-c05b-461b-b57e-22ba8ba6c845"
      },
      "execution_count": 2,
      "outputs": [
        {
          "output_type": "stream",
          "name": "stdout",
          "text": [
            "Collecting tslearn\n",
            "  Downloading tslearn-0.6.3-py3-none-any.whl.metadata (14 kB)\n",
            "Requirement already satisfied: scikit-learn in /usr/local/lib/python3.10/dist-packages (1.6.0)\n",
            "Requirement already satisfied: numpy in /usr/local/lib/python3.10/dist-packages (from tslearn) (1.26.4)\n",
            "Requirement already satisfied: scipy in /usr/local/lib/python3.10/dist-packages (from tslearn) (1.13.1)\n",
            "Requirement already satisfied: numba in /usr/local/lib/python3.10/dist-packages (from tslearn) (0.60.0)\n",
            "Requirement already satisfied: joblib in /usr/local/lib/python3.10/dist-packages (from tslearn) (1.4.2)\n",
            "Requirement already satisfied: threadpoolctl>=3.1.0 in /usr/local/lib/python3.10/dist-packages (from scikit-learn) (3.5.0)\n",
            "Requirement already satisfied: llvmlite<0.44,>=0.43.0dev0 in /usr/local/lib/python3.10/dist-packages (from numba->tslearn) (0.43.0)\n",
            "Downloading tslearn-0.6.3-py3-none-any.whl (374 kB)\n",
            "\u001b[2K   \u001b[90m━━━━━━━━━━━━━━━━━━━━━━━━━━━━━━━━━━━━━━━━\u001b[0m \u001b[32m374.4/374.4 kB\u001b[0m \u001b[31m4.8 MB/s\u001b[0m eta \u001b[36m0:00:00\u001b[0m\n",
            "\u001b[?25hInstalling collected packages: tslearn\n",
            "Successfully installed tslearn-0.6.3\n"
          ]
        }
      ]
    },
    {
      "cell_type": "code",
      "source": [
        "import pandas as pd\n",
        "import numpy as np\n",
        "from scipy.io import arff\n",
        "import matplotlib.pyplot as plt\n",
        "from sklearn.model_selection import train_test_split\n",
        "from tslearn.neighbors import KNeighborsTimeSeriesClassifier\n",
        "from tslearn.shapelets import ShapeletModel, grabocka_params_to_shapelet_size_dict\n",
        "from sklearn.metrics import classification_report, accuracy_score\n",
        "from tensorflow.keras.optimizers import Adam"
      ],
      "metadata": {
        "id": "-j1NYFGSWTCr"
      },
      "execution_count": 3,
      "outputs": []
    },
    {
      "cell_type": "code",
      "source": [
        "data = arff.loadarff(\"/content/drive/MyDrive/MasterKISA/ITSDA/Entrega2/MoteStrain.arff\")\n",
        "df = pd.DataFrame(data[0])\n",
        "\n",
        "print(df.head())"
      ],
      "metadata": {
        "colab": {
          "base_uri": "https://localhost:8080/"
        },
        "id": "ruWIqedYVAf_",
        "outputId": "0aaf06a7-6378-4ffa-9877-4a95e8d2da65"
      },
      "execution_count": 5,
      "outputs": [
        {
          "output_type": "stream",
          "name": "stdout",
          "text": [
            "       att1      att2      att3      att4      att5      att6      att7  \\\n",
            "0  0.398150  0.503921  0.525904  0.607302  0.572887  0.804101  0.721741   \n",
            "1 -1.094367 -1.251307 -1.417703 -1.501493 -1.354483 -1.193750 -1.036556   \n",
            "2  0.081700  0.057580  0.019309 -0.017998 -0.045013 -0.058199 -0.122842   \n",
            "3 -1.425477 -1.451659 -1.486758 -1.535277 -1.558609 -1.582891 -1.620021   \n",
            "4 -0.500857 -0.529616 -0.569820 -0.624989 -0.678105 -0.712733 -0.744573   \n",
            "\n",
            "       att8      att9     att10  ...     att76     att77     att78     att79  \\\n",
            "0  0.688301 -0.419047 -0.853946  ... -0.105779  0.020968  0.108770  0.130787   \n",
            "1 -0.804107 -0.760073 -0.489427  ... -0.716078 -0.635516 -0.431121 -0.254227   \n",
            "2 -0.421939 -0.412290 -0.304506  ... -0.385918  0.025096  0.192977  0.221922   \n",
            "3 -1.602121 -1.518666 -1.331724  ... -0.900335  0.190807  0.708513  0.192089   \n",
            "4 -0.769077 -0.799596 -0.822486  ... -0.793140 -0.799009  0.200505  0.513916   \n",
            "\n",
            "      att80     att81     att82     att83     att84  target  \n",
            "0  0.172185  0.173916  0.210307  0.259983  0.288846    b'2'  \n",
            "1 -0.092979  0.054245  0.174153  0.288964  0.362948    b'2'  \n",
            "2  0.180499  0.169178  0.122224  0.053527  0.023811    b'1'  \n",
            "3  0.060067  0.179722  0.382959  0.416918  0.495045    b'1'  \n",
            "4  0.642451  0.911844  1.087918  1.107638  1.173607    b'1'  \n",
            "\n",
            "[5 rows x 85 columns]\n"
          ]
        }
      ]
    },
    {
      "cell_type": "code",
      "source": [
        "clases = df.iloc[:, -1]\n",
        "clases.value_counts()"
      ],
      "metadata": {
        "colab": {
          "base_uri": "https://localhost:8080/",
          "height": 178
        },
        "id": "YCTRCS7xQR51",
        "outputId": "94a0c08f-c399-40ef-d714-0c1d33c0526d"
      },
      "execution_count": 6,
      "outputs": [
        {
          "output_type": "execute_result",
          "data": {
            "text/plain": [
              "target\n",
              "b'1'    685\n",
              "b'2'    587\n",
              "Name: count, dtype: int64"
            ],
            "text/html": [
              "<div>\n",
              "<style scoped>\n",
              "    .dataframe tbody tr th:only-of-type {\n",
              "        vertical-align: middle;\n",
              "    }\n",
              "\n",
              "    .dataframe tbody tr th {\n",
              "        vertical-align: top;\n",
              "    }\n",
              "\n",
              "    .dataframe thead th {\n",
              "        text-align: right;\n",
              "    }\n",
              "</style>\n",
              "<table border=\"1\" class=\"dataframe\">\n",
              "  <thead>\n",
              "    <tr style=\"text-align: right;\">\n",
              "      <th></th>\n",
              "      <th>count</th>\n",
              "    </tr>\n",
              "    <tr>\n",
              "      <th>target</th>\n",
              "      <th></th>\n",
              "    </tr>\n",
              "  </thead>\n",
              "  <tbody>\n",
              "    <tr>\n",
              "      <th>b'1'</th>\n",
              "      <td>685</td>\n",
              "    </tr>\n",
              "    <tr>\n",
              "      <th>b'2'</th>\n",
              "      <td>587</td>\n",
              "    </tr>\n",
              "  </tbody>\n",
              "</table>\n",
              "</div><br><label><b>dtype:</b> int64</label>"
            ]
          },
          "metadata": {},
          "execution_count": 6
        }
      ]
    },
    {
      "cell_type": "markdown",
      "source": [
        "Hay 1272 instancias, de las cuales 685 son de la clase 1 () y 587 son de la clase 2 ()."
      ],
      "metadata": {
        "id": "mfW-X6aaRBuu"
      }
    },
    {
      "cell_type": "markdown",
      "source": [
        "Para hacer el split de train test, dividir en la proporcion 80, 20 los datos de manera stratified."
      ],
      "metadata": {
        "id": "_i7Vb8iFRsFA"
      }
    },
    {
      "cell_type": "code",
      "source": [
        "X = df.drop(columns=['target']).values\n",
        "y = pd.Categorical(df['target']).codes\n",
        "\n",
        "X = X.reshape(X.shape[0], X.shape[1], 1)\n",
        "# División estratificada en 80% para entrenamiento y 20% para prueba\n",
        "X_train, X_test, y_train, y_test = train_test_split(X, y, test_size=0.2, stratify=y, random_state=42)\n",
        "\n",
        "# Verificar las proporciones\n",
        "print(\"Distribución en y_train:\")\n",
        "print(pd.Series(y_train).value_counts(normalize=True))\n",
        "print(\"\\nDistribución en y_test:\")\n",
        "print(pd.Series(y_test).value_counts(normalize=True))"
      ],
      "metadata": {
        "colab": {
          "base_uri": "https://localhost:8080/"
        },
        "id": "zMZNpK3fRlPV",
        "outputId": "583aeab6-9a5b-4989-cef0-982af384737f"
      },
      "execution_count": 7,
      "outputs": [
        {
          "output_type": "stream",
          "name": "stdout",
          "text": [
            "Distribución en y_train:\n",
            "0    0.53884\n",
            "1    0.46116\n",
            "Name: proportion, dtype: float64\n",
            "\n",
            "Distribución en y_test:\n",
            "0    0.537255\n",
            "1    0.462745\n",
            "Name: proportion, dtype: float64\n"
          ]
        }
      ]
    },
    {
      "cell_type": "code",
      "source": [
        "# Extraer la primera fila y los nombres de las columnas\n",
        "row0 = df.iloc[0]\n",
        "row1 = df.iloc[400]\n",
        "class_label0 = row0.iloc[-1]  # Última columna (la clase)\n",
        "values0 = row0.iloc[:-1]  # Todas las columnas excepto la última\n",
        "class_label1 = row1.iloc[-1]  # Última columna (la clase)\n",
        "values1 = row1.iloc[:-1]  # Todas las columnas excepto la última\n",
        "\n",
        "# Crear el gráfico\n",
        "plt.figure(figsize=(12, 6))  # Ajustar el tamaño de la figura\n",
        "plt.plot(values0, color='red', label=\"q8calibHumid (Clase 1)\", linewidth=2, linestyle='-')\n",
        "plt.plot(values1, color='blue', label=\"q8calibHumTemp (Clase 2)\", linewidth=2, linestyle='--')\n",
        "\n",
        "# Configurar etiquetas del eje X\n",
        "ticks = range(0, len(values0), 5)  # Crear ticks de 5 en 5\n",
        "plt.xticks(ticks, labels=ticks, fontsize=10)  # Etiquetas de ticks de 5 en 5\n",
        "\n",
        "# Añadir título y etiquetas\n",
        "plt.xlabel(\"Measurement\", fontsize=12)\n",
        "plt.ylabel(\"Values\", fontsize=12)\n",
        "\n",
        "# Añadir leyenda y cuadrícula\n",
        "plt.legend(fontsize=12, loc='upper right')\n",
        "plt.grid(alpha=0.3)\n",
        "\n",
        "# Mostrar el gráfico\n",
        "plt.tight_layout()\n",
        "plt.show()"
      ],
      "metadata": {
        "colab": {
          "base_uri": "https://localhost:8080/",
          "height": 607
        },
        "id": "6ee8ynzBWPT9",
        "outputId": "c84d698b-69c9-4b78-f2d3-d29e92f7e923"
      },
      "execution_count": 10,
      "outputs": [
        {
          "output_type": "display_data",
          "data": {
            "text/plain": [
              "<Figure size 1200x600 with 1 Axes>"
            ],
            "image/png": "[encoded data removed]"
          },
          "metadata": {}
        }
      ]
    },
    {
      "cell_type": "markdown",
      "source": [
        "# 1-NN"
      ],
      "metadata": {
        "id": "QYiIYl5TU_lc"
      }
    },
    {
      "cell_type": "code",
      "source": [
        "knn_dtw = KNeighborsTimeSeriesClassifier(n_neighbors=1, metric=\"dtw\")\n",
        "knn_dtw.fit(X_train, y_train)\n",
        "\n",
        "# Realizar predicciones\n",
        "y_pred = knn_dtw.predict(X_test)\n",
        "\n",
        "# Evaluar el modelo\n",
        "from sklearn.metrics import classification_report, accuracy_score\n",
        "\n",
        "print(\"Accuracy:\", accuracy_score(y_test, y_pred))\n",
        "print(\"\\nClassification Report:\")\n",
        "print(classification_report(y_test, y_pred))"
      ],
      "metadata": {
        "id": "3IJ4gskFU_Me",
        "colab": {
          "base_uri": "https://localhost:8080/"
        },
        "outputId": "ae118b85-9416-4c1e-fd9b-60016e84b821"
      },
      "execution_count": null,
      "outputs": [
        {
          "output_type": "stream",
          "name": "stdout",
          "text": [
            "Accuracy: 0.9568627450980393\n",
            "\n",
            "Classification Report:\n",
            "              precision    recall  f1-score   support\n",
            "\n",
            "           0       0.95      0.97      0.96       137\n",
            "           1       0.97      0.94      0.95       118\n",
            "\n",
            "    accuracy                           0.96       255\n",
            "   macro avg       0.96      0.96      0.96       255\n",
            "weighted avg       0.96      0.96      0.96       255\n",
            "\n"
          ]
        }
      ]
    },
    {
      "cell_type": "markdown",
      "source": [
        "# Shapelets"
      ],
      "metadata": {
        "id": "t1CdfQabV8lk"
      }
    },
    {
      "cell_type": "code",
      "source": [
        "n_shapelets_per_size = grabocka_params_to_shapelet_size_dict(\n",
        "    n_ts=X_train.shape[0], ts_sz=X_train.shape[1], n_classes=len(np.unique(y_train)), l=0.1, r=1\n",
        ")\n",
        "\n",
        "shapelet_model = ShapeletModel(n_shapelets_per_size=n_shapelets_per_size,\n",
        "                               optimizer=Adam(learning_rate=0.05),\n",
        "                               weight_regularizer=0.01,\n",
        "                               max_iter=200)\n",
        "\n",
        "shapelet_model.fit(X_train, y_train)\n",
        "\n",
        "y_pred = shapelet_model.predict(X_test)\n",
        "\n",
        "print(\"Accuracy:\", accuracy_score(y_test, y_pred))\n",
        "print(\"\\nClassification Report:\")\n",
        "print(classification_report(y_test, y_pred))"
      ],
      "metadata": {
        "id": "W8o9FBSBV8WI",
        "colab": {
          "base_uri": "https://localhost:8080/"
        },
        "outputId": "e42b74de-b3a7-4dab-9899-769150209a45"
      },
      "execution_count": null,
      "outputs": [
        {
          "output_type": "stream",
          "name": "stderr",
          "text": [
            "/usr/local/lib/python3.10/dist-packages/tslearn/shapelets/shapelets.py:354: FutureWarning: The default value for 'scale' is set to False in version 0.4 to ensure backward compatibility, but is likely to change in a future version.\n",
            "  warnings.warn(\"The default value for 'scale' is set to False \"\n"
          ]
        },
        {
          "output_type": "stream",
          "name": "stdout",
          "text": [
            "Accuracy: 0.8470588235294118\n",
            "\n",
            "Classification Report:\n",
            "              precision    recall  f1-score   support\n",
            "\n",
            "           0       0.86      0.85      0.86       137\n",
            "           1       0.83      0.84      0.84       118\n",
            "\n",
            "    accuracy                           0.85       255\n",
            "   macro avg       0.85      0.85      0.85       255\n",
            "weighted avg       0.85      0.85      0.85       255\n",
            "\n"
          ]
        }
      ]
    }
  ]
}